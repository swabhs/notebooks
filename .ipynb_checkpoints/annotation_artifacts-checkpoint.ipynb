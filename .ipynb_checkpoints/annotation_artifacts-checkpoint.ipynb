{
 "cells": [
  {
   "cell_type": "markdown",
   "metadata": {},
   "source": [
    "# Annotation Artifacts in Natural Language Inference Data\n",
    "\n",
    "This notebook analyses annotations in the [SNLI](https://nlp.stanford.edu/projects/snli/) and [MultiNLI](https://www.nyu.edu/projects/bowman/multinli/) datasets, showing consistent patterns in the data which might cause models to achieve inflated performance.\n",
    "\n",
    "If using in your research, please cite [our NAACL paper](https://aclweb.org/anthology/N18-2017)\n",
    "\n",
    "```\n",
    "@inproceedings{gururangan2018annotation,\n",
    "  title={Annotation Artifacts in Natural Language Inference Data},\n",
    "  author={Gururangan, Suchin and Swayamdipta, Swabha and Levy, Omer and Schwartz, Roy and Bowman, Samuel and Smith, Noah A},\n",
    "  booktitle={Proceedings of the 2018 Conference of the North American Chapter of the Association for Computational Linguistics: Human Language Technologies, Volume 2 (Short Papers)},\n",
    "  pages={107--112},\n",
    "  year={2018}\n",
    "}\n",
    "```\n",
    "\n",
    "## Installation\n",
    "\n",
    "First, you would need to install some packages:\n",
    "\n",
    "```\n",
    "pip install matplotlib\n",
    "pip install nltk\n",
    "pip install numpy\n",
    "pip install pandas\n",
    "pip install re\n",
    "pip install seaborn\n",
    "pip install string\n",
    "pip install tqdm\n",
    "```\n",
    "\n",
    "## Load dependencies"
   ]
  },
  {
   "cell_type": "code",
   "execution_count": 1,
   "metadata": {
    "scrolled": false
   },
   "outputs": [],
   "source": [
    "import matplotlib.pyplot as plt\n",
    "import numpy as np\n",
    "import pandas as pd\n",
    "import re\n",
    "import seaborn as sns\n",
    "import string\n",
    "\n",
    "from collections import Counter\n",
    "from nltk import PorterStemmer\n",
    "from IPython.core.debugger import Tracer\n",
    "from tqdm import tqdm\n",
    "\n",
    "#tqdm.pandas(\"mybar!\")\n",
    "\n",
    "%matplotlib inline"
   ]
  },
  {
   "cell_type": "markdown",
   "metadata": {},
   "source": [
    "## Load Data\n",
    "\n",
    "Here, we only show SNLI, but MNLI, being in the same format can be processed similarly."
   ]
  },
  {
   "cell_type": "code",
   "execution_count": 2,
   "metadata": {
    "scrolled": false
   },
   "outputs": [],
   "source": [
    "%%capture\n",
    "\n",
    "snli = pd.read_csv('/Users/swabhas/data/aflite/snli_1.0_glue/train.tsv',\n",
    "                   sep = '\\t',\n",
    "                   error_bad_lines=False).dropna(subset=['sentence2',\n",
    "                                                         'sentence2_binary_parse',\n",
    "                                                         'sentence2_parse'])"
   ]
  },
  {
   "cell_type": "markdown",
   "metadata": {},
   "source": [
    "## Functions"
   ]
  },
  {
   "cell_type": "code",
   "execution_count": 3,
   "metadata": {
    "scrolled": false
   },
   "outputs": [],
   "source": [
    "def tokenize(string):\n",
    "    \"\"\"\n",
    "    tokenize string from binary parse\n",
    "    \"\"\"\n",
    "    string = re.sub(r'\\(|\\)', '', str(string))\n",
    "    return string.lower().split()\n",
    "\n",
    "def plot_tokens(df):\n",
    "    \"\"\"\n",
    "    plot token length dist\n",
    "    \"\"\"\n",
    "    total_count = df.sentence2.apply(lambda x: len(x)).sum()\n",
    "    ax = (df.sentence2_binary_parse\n",
    "            .apply(lambda x: len(tokenize(x)))\n",
    "            .value_counts()\n",
    "            .sort_index()\n",
    "            .div(total_count)\n",
    "            .plot(kind='line', legend=True, ylim=[0 , 0.006]))\n",
    "    return ax\n",
    "\n",
    "def plot_characters(df):\n",
    "    \"\"\"\n",
    "    plot character length dist\n",
    "    \"\"\"\n",
    "    total_count = df.sentence2.apply(lambda x: len(x)).sum()\n",
    "    ax = (df.sentence2\n",
    "            .apply(lambda x: len(x))\n",
    "            .value_counts()\n",
    "            .sort_index()\n",
    "            .div(total_count)\n",
    "            .plot(kind='line', legend=True, ylim=[0 , 0.0012]))\n",
    "    return ax\n",
    "\n",
    "def ppmi(df):\n",
    "    \"\"\"\n",
    "    computes positive pointwise mutual information between labels and words in the hypothesis.\n",
    "    Args:\n",
    "        df -> dataframe (mnli or snli)\n",
    "    Returns:\n",
    "        ppmis -> pmi data\n",
    "    \"\"\"\n",
    "    alpha = 10.0  # for smoothing\n",
    "    \n",
    "    # get joint (w,c) counts\n",
    "    Px = []\n",
    "    Py = []\n",
    "    Pxy = []\n",
    "    for idx, row in df.iterrows():\n",
    "        for word in tokenize(row.sentence2_binary_parse):\n",
    "            Pxy.append((word, row.gold_label))\n",
    "            Px.append(word)\n",
    "        Py.append(row.gold_label)\n",
    "    Pxy = Counter(Pxy)\n",
    "    Px = Counter(Px)\n",
    "    Py = Counter(Py)\n",
    "    Py = {y: c + len(Px)*alpha for y, c in Py.items()}\n",
    "    Px = {x: c + 3*alpha for x, c in Px.items()}\n",
    "    total_word_count = sum(Px.values())\n",
    "\n",
    "    # get c counts\n",
    "    ppmis = []\n",
    "    \n",
    "    seen_pairs = {}\n",
    "    total_Py = 3\n",
    "    for word in Px.keys():\n",
    "        for cls in ['contradiction', 'entailment', 'neutral']:\n",
    "            if seen_pairs.get((word, cls)) is None:\n",
    "                # artificial smoothing\n",
    "                word_count = float(Px[word])\n",
    "                cls_count = float(Py[cls])\n",
    "                word_cls_count = Pxy.get((word, cls), 0.0) + alpha\n",
    "                z = (float(word_cls_count) * total_word_count / (float(word_count) * float(cls_count)))\n",
    "                # ppmi\n",
    "                ppmi = max([np.log(z), 0.0])\n",
    "                output = {'word': word,\n",
    "                          'class': cls,\n",
    "                          'ppmi': ppmi,\n",
    "                          'count': word_count - 3*alpha,\n",
    "                          'wc_count': Pxy.get((word, cls), 0.0),}\n",
    "                seen_pairs[(word, cls)] = 1\n",
    "                ppmis.append(output)\n",
    "    return pd.DataFrame(ppmis)"
   ]
  },
  {
   "cell_type": "markdown",
   "metadata": {},
   "source": [
    "## PPMI and Token Length Distributions\n"
   ]
  },
  {
   "cell_type": "code",
   "execution_count": 10,
   "metadata": {
    "scrolled": false
   },
   "outputs": [],
   "source": [
    "snli_ppmi = ppmi(snli)"
   ]
  },
  {
   "cell_type": "markdown",
   "metadata": {},
   "source": [
    "#### Top 20 PPMIs across (class, word) pairs in SNLI"
   ]
  },
  {
   "cell_type": "code",
   "execution_count": 11,
   "metadata": {
    "scrolled": true
   },
   "outputs": [
    {
     "data": {
      "text/html": [
       "<div>\n",
       "<style scoped>\n",
       "    .dataframe tbody tr th:only-of-type {\n",
       "        vertical-align: middle;\n",
       "    }\n",
       "\n",
       "    .dataframe tbody tr th {\n",
       "        vertical-align: top;\n",
       "    }\n",
       "\n",
       "    .dataframe thead th {\n",
       "        text-align: right;\n",
       "    }\n",
       "</style>\n",
       "<table border=\"1\" class=\"dataframe\">\n",
       "  <thead>\n",
       "    <tr style=\"text-align: right;\">\n",
       "      <th></th>\n",
       "      <th>class</th>\n",
       "      <th>count</th>\n",
       "      <th>ppmi</th>\n",
       "      <th>wc_count</th>\n",
       "      <th>word</th>\n",
       "    </tr>\n",
       "  </thead>\n",
       "  <tbody>\n",
       "    <tr>\n",
       "      <th>651</th>\n",
       "      <td>contradiction</td>\n",
       "      <td>2192.0</td>\n",
       "      <td>2.359585</td>\n",
       "      <td>2182.0</td>\n",
       "      <td>nobody</td>\n",
       "    </tr>\n",
       "    <tr>\n",
       "      <th>4377</th>\n",
       "      <td>contradiction</td>\n",
       "      <td>759.0</td>\n",
       "      <td>2.280274</td>\n",
       "      <td>709.0</td>\n",
       "      <td>cats</td>\n",
       "    </tr>\n",
       "    <tr>\n",
       "      <th>3191</th>\n",
       "      <td>neutral</td>\n",
       "      <td>339.0</td>\n",
       "      <td>2.267198</td>\n",
       "      <td>322.0</td>\n",
       "      <td>championship</td>\n",
       "    </tr>\n",
       "    <tr>\n",
       "      <th>5636</th>\n",
       "      <td>neutral</td>\n",
       "      <td>159.0</td>\n",
       "      <td>2.261011</td>\n",
       "      <td>159.0</td>\n",
       "      <td>joyously</td>\n",
       "    </tr>\n",
       "    <tr>\n",
       "      <th>4146</th>\n",
       "      <td>contradiction</td>\n",
       "      <td>534.0</td>\n",
       "      <td>2.260701</td>\n",
       "      <td>494.0</td>\n",
       "      <td>nothing</td>\n",
       "    </tr>\n",
       "    <tr>\n",
       "      <th>167</th>\n",
       "      <td>neutral</td>\n",
       "      <td>594.0</td>\n",
       "      <td>2.248444</td>\n",
       "      <td>541.0</td>\n",
       "      <td>vacation</td>\n",
       "    </tr>\n",
       "    <tr>\n",
       "      <th>4681</th>\n",
       "      <td>entailment</td>\n",
       "      <td>364.0</td>\n",
       "      <td>2.245740</td>\n",
       "      <td>337.0</td>\n",
       "      <td>least</td>\n",
       "    </tr>\n",
       "    <tr>\n",
       "      <th>81</th>\n",
       "      <td>contradiction</td>\n",
       "      <td>243.0</td>\n",
       "      <td>2.244346</td>\n",
       "      <td>230.0</td>\n",
       "      <td>frowning</td>\n",
       "    </tr>\n",
       "    <tr>\n",
       "      <th>1497</th>\n",
       "      <td>contradiction</td>\n",
       "      <td>949.0</td>\n",
       "      <td>2.242416</td>\n",
       "      <td>849.0</td>\n",
       "      <td>naked</td>\n",
       "    </tr>\n",
       "    <tr>\n",
       "      <th>347</th>\n",
       "      <td>neutral</td>\n",
       "      <td>640.0</td>\n",
       "      <td>2.235483</td>\n",
       "      <td>574.0</td>\n",
       "      <td>winning</td>\n",
       "    </tr>\n",
       "    <tr>\n",
       "      <th>1727</th>\n",
       "      <td>neutral</td>\n",
       "      <td>1939.0</td>\n",
       "      <td>2.234164</td>\n",
       "      <td>1704.0</td>\n",
       "      <td>tall</td>\n",
       "    </tr>\n",
       "    <tr>\n",
       "      <th>10112</th>\n",
       "      <td>neutral</td>\n",
       "      <td>275.0</td>\n",
       "      <td>2.232278</td>\n",
       "      <td>255.0</td>\n",
       "      <td>siblings</td>\n",
       "    </tr>\n",
       "    <tr>\n",
       "      <th>713</th>\n",
       "      <td>neutral</td>\n",
       "      <td>681.0</td>\n",
       "      <td>2.231056</td>\n",
       "      <td>607.0</td>\n",
       "      <td>favorite</td>\n",
       "    </tr>\n",
       "    <tr>\n",
       "      <th>4202</th>\n",
       "      <td>neutral</td>\n",
       "      <td>158.0</td>\n",
       "      <td>2.230168</td>\n",
       "      <td>153.0</td>\n",
       "      <td>impress</td>\n",
       "    </tr>\n",
       "    <tr>\n",
       "      <th>168</th>\n",
       "      <td>contradiction</td>\n",
       "      <td>6390.0</td>\n",
       "      <td>2.221051</td>\n",
       "      <td>5504.0</td>\n",
       "      <td>sleeping</td>\n",
       "    </tr>\n",
       "    <tr>\n",
       "      <th>3543</th>\n",
       "      <td>contradiction</td>\n",
       "      <td>139.0</td>\n",
       "      <td>2.220014</td>\n",
       "      <td>135.0</td>\n",
       "      <td>mars</td>\n",
       "    </tr>\n",
       "    <tr>\n",
       "      <th>1971</th>\n",
       "      <td>contradiction</td>\n",
       "      <td>1581.0</td>\n",
       "      <td>2.219855</td>\n",
       "      <td>1372.0</td>\n",
       "      <td>tv</td>\n",
       "    </tr>\n",
       "    <tr>\n",
       "      <th>2061</th>\n",
       "      <td>contradiction</td>\n",
       "      <td>299.0</td>\n",
       "      <td>2.219028</td>\n",
       "      <td>272.0</td>\n",
       "      <td>anything</td>\n",
       "    </tr>\n",
       "    <tr>\n",
       "      <th>8198</th>\n",
       "      <td>neutral</td>\n",
       "      <td>530.0</td>\n",
       "      <td>2.216624</td>\n",
       "      <td>469.0</td>\n",
       "      <td>date</td>\n",
       "    </tr>\n",
       "    <tr>\n",
       "      <th>6957</th>\n",
       "      <td>contradiction</td>\n",
       "      <td>303.0</td>\n",
       "      <td>2.210483</td>\n",
       "      <td>273.0</td>\n",
       "      <td>quietly</td>\n",
       "    </tr>\n",
       "  </tbody>\n",
       "</table>\n",
       "</div>"
      ],
      "text/plain": [
       "               class   count      ppmi  wc_count          word\n",
       "651    contradiction  2192.0  2.359585    2182.0        nobody\n",
       "4377   contradiction   759.0  2.280274     709.0          cats\n",
       "3191         neutral   339.0  2.267198     322.0  championship\n",
       "5636         neutral   159.0  2.261011     159.0      joyously\n",
       "4146   contradiction   534.0  2.260701     494.0       nothing\n",
       "167          neutral   594.0  2.248444     541.0      vacation\n",
       "4681      entailment   364.0  2.245740     337.0         least\n",
       "81     contradiction   243.0  2.244346     230.0      frowning\n",
       "1497   contradiction   949.0  2.242416     849.0         naked\n",
       "347          neutral   640.0  2.235483     574.0       winning\n",
       "1727         neutral  1939.0  2.234164    1704.0          tall\n",
       "10112        neutral   275.0  2.232278     255.0      siblings\n",
       "713          neutral   681.0  2.231056     607.0      favorite\n",
       "4202         neutral   158.0  2.230168     153.0       impress\n",
       "168    contradiction  6390.0  2.221051    5504.0      sleeping\n",
       "3543   contradiction   139.0  2.220014     135.0          mars\n",
       "1971   contradiction  1581.0  2.219855    1372.0            tv\n",
       "2061   contradiction   299.0  2.219028     272.0      anything\n",
       "8198         neutral   530.0  2.216624     469.0          date\n",
       "6957   contradiction   303.0  2.210483     273.0       quietly"
      ]
     },
     "execution_count": 11,
     "metadata": {},
     "output_type": "execute_result"
    }
   ],
   "source": [
    "snli_ppmi.sort_values(by='ppmi', ascending=False).head(n=20)"
   ]
  },
  {
   "cell_type": "markdown",
   "metadata": {},
   "source": [
    "### Graphs for PPMI"
   ]
  },
  {
   "cell_type": "markdown",
   "metadata": {},
   "source": [
    "#### Top 20 words occuring with the class `contradiction`"
   ]
  },
  {
   "cell_type": "code",
   "execution_count": 22,
   "metadata": {
    "scrolled": false
   },
   "outputs": [
    {
     "data": {
      "image/png": "[encoded data removed]",
      "text/plain": [
       "<Figure size 432x288 with 1 Axes>"
      ]
     },
     "metadata": {},
     "output_type": "display_data"
    }
   ],
   "source": [
    "sns.set_style(\"whitegrid\", {'axes.grid' : False})\n",
    "ax = (snli_ppmi.loc[snli_ppmi['class'] == 'contradiction']\n",
    "              .sort_values(by='ppmi', ascending=False)\n",
    "              .head(n=20)\n",
    "              .plot(kind='barh', x='word', y='ppmi', title='top 20 PPMI(word, contradiction) SNLI', legend=False))\n"
   ]
  },
  {
   "cell_type": "markdown",
   "metadata": {},
   "source": [
    "#### Top 20 words occuring with the class `entailment`"
   ]
  },
  {
   "cell_type": "code",
   "execution_count": 18,
   "metadata": {
    "scrolled": false
   },
   "outputs": [
    {
     "data": {
      "image/png": "[encoded data removed]",
      "text/plain": [
       "<Figure size 432x288 with 1 Axes>"
      ]
     },
     "metadata": {},
     "output_type": "display_data"
    }
   ],
   "source": [
    "sns.set_style(\"whitegrid\", {'axes.grid' : False})\n",
    "ax = (snli_ppmi.loc[snli_ppmi['class'] == 'entailment']\n",
    "              .sort_values(by='ppmi', ascending=False)\n",
    "              .head(n=20)\n",
    "              .plot(kind='barh', x='word', y='ppmi', title='top 20 PPMI(word, entailment) SNLI', legend=False))\n"
   ]
  },
  {
   "cell_type": "markdown",
   "metadata": {},
   "source": [
    "#### Top 20 words occuring with the class `neutral`"
   ]
  },
  {
   "cell_type": "code",
   "execution_count": 19,
   "metadata": {
    "scrolled": false
   },
   "outputs": [
    {
     "data": {
      "image/png": "[encoded data removed]",
      "text/plain": [
       "<Figure size 432x288 with 1 Axes>"
      ]
     },
     "metadata": {},
     "output_type": "display_data"
    }
   ],
   "source": [
    "sns.set_style(\"whitegrid\", {'axes.grid' : False})\n",
    "ax = (snli_ppmi.loc[snli_ppmi['class'] == 'neutral']\n",
    "              .sort_values(by='ppmi', ascending=False)\n",
    "              .head(n=20)\n",
    "              .plot(kind='barh', x='word', y='ppmi', title='top 20 PPMI(word, neutral) SNLI', legend=False))"
   ]
  },
  {
   "cell_type": "markdown",
   "metadata": {},
   "source": [
    "## Token Length Distributions"
   ]
  },
  {
   "cell_type": "code",
   "execution_count": 20,
   "metadata": {
    "scrolled": false
   },
   "outputs": [],
   "source": [
    "contradiction_snli = snli.loc[snli.gold_label == 'contradiction']\n",
    "entailment_snli = snli.loc[snli.gold_label == 'entailment']\n",
    "neutral_snli = snli.loc[snli.gold_label == 'neutral']"
   ]
  },
  {
   "cell_type": "code",
   "execution_count": 51,
   "metadata": {
    "scrolled": false
   },
   "outputs": [
    {
     "data": {
      "text/plain": [
       "<matplotlib.legend.Legend at 0x1289dfc50>"
      ]
     },
     "execution_count": 51,
     "metadata": {},
     "output_type": "execute_result"
    },
    {
     "data": {
      "image/png": "[encoded data removed]",
      "text/plain": [
       "<Figure size 432x288 with 1 Axes>"
      ]
     },
     "metadata": {},
     "output_type": "display_data"
    }
   ],
   "source": [
    "_ = plot_tokens(neutral_snli)\n",
    "_ = plot_tokens(contradiction_snli)\n",
    "ax = plot_tokens(entailment_snli)\n",
    "ax.set_xlabel('length of hypothesis sentence')\n",
    "ax.set_ylabel('density')\n",
    "ax.legend([\"snli neutral\",\n",
    "           \"snli contradiction\",\n",
    "           \"snli entailment\"])\n",
    "# ax.set_ylim([0, 0.0012])"
   ]
  },
  {
   "cell_type": "code",
   "execution_count": null,
   "metadata": {},
   "outputs": [],
   "source": []
  }
 ],
 "metadata": {
  "kernelspec": {
   "display_name": "Python 3",
   "language": "python",
   "name": "python3"
  },
  "language_info": {
   "codemirror_mode": {
    "name": "ipython",
    "version": 3
   },
   "file_extension": ".py",
   "mimetype": "text/x-python",
   "name": "python",
   "nbconvert_exporter": "python",
   "pygments_lexer": "ipython3",
   "version": "3.7.0"
  }
 },
 "nbformat": 4,
 "nbformat_minor": 2
}
