{
 "cells": [
  {
   "cell_type": "markdown",
   "metadata": {},
   "source": [
    "# Annotation Artifacts in Natural Language Inference Data\n",
    "\n",
    "This notebook analyses annotations in the [SNLI](https://nlp.stanford.edu/projects/snli/) and [MultiNLI](https://www.nyu.edu/projects/bowman/multinli/) datasets, showing consistent patterns in the data which might cause models to achieve inflated performance.\n",
    "\n",
    "If using in your research, please cite [our NAACL paper](https://aclweb.org/anthology/N18-2017)\n",
    "\n",
    "```\n",
    "@inproceedings{gururangan2018annotation,\n",
    "  title={Annotation Artifacts in Natural Language Inference Data},\n",
    "  author={Gururangan, Suchin and Swayamdipta, Swabha and Levy, Omer and Schwartz, Roy and Bowman, Samuel and Smith, Noah A},\n",
    "  booktitle={Proceedings of the 2018 Conference of the North American Chapter of the Association for Computational Linguistics: Human Language Technologies, Volume 2 (Short Papers)},\n",
    "  pages={107--112},\n",
    "  year={2018}\n",
    "}\n",
    "```\n",
    "\n",
    "## Installation\n",
    "\n",
    "First, you would need to install some packages:\n",
    "\n",
    "```\n",
    "pip install matplotlib\n",
    "pip install nltk\n",
    "pip install numpy\n",
    "pip install pandas\n",
    "pip install re\n",
    "pip install seaborn\n",
    "pip install string\n",
    "pip install tqdm\n",
    "```\n",
    "\n",
    "## Load dependencies"
   ]
  },
  {
   "cell_type": "code",
   "execution_count": null,
   "metadata": {
    "scrolled": false
   },
   "outputs": [],
   "source": [
    "import matplotlib.pyplot as plt\n",
    "import numpy as np\n",
    "import pandas as pd\n",
    "import re\n",
    "import seaborn as sns\n",
    "import string\n",
    "\n",
    "from collections import Counter\n",
    "from nltk import PorterStemmer\n",
    "from IPython.core.debugger import Tracer\n",
    "from tqdm import tqdm\n",
    "\n",
    "#tqdm.pandas(\"mybar!\")\n",
    "\n",
    "%matplotlib inline"
   ]
  },
  {
   "cell_type": "markdown",
   "metadata": {},
   "source": [
    "## Load Data\n",
    "\n",
    "Here, we only show SNLI, but MNLI, being in the same format can be processed similarly."
   ]
  },
  {
   "cell_type": "code",
   "execution_count": null,
   "metadata": {
    "scrolled": false
   },
   "outputs": [],
   "source": [
    "%%capture\n",
    "hardest = pd.read_csv('/Users/swabhas/data/aflite/snli-upto-145022/train.tsv',\n",
    "                   sep = '\\t',\n",
    "                   error_bad_lines=False).dropna(subset=['sentence2',\n",
    "                                                         'sentence2_binary_parse',\n",
    "                                                         'sentence2_parse'])\n",
    "\n",
    "snli = pd.read_csv('/Users/swabhas/data/aflite/snli_1.0_glue/train.tsv',\n",
    "                   sep = '\\t',\n",
    "                   error_bad_lines=False).dropna(subset=['sentence2',\n",
    "                                                         'sentence2_binary_parse',\n",
    "                                                         'sentence2_parse'])"
   ]
  },
  {
   "cell_type": "markdown",
   "metadata": {},
   "source": [
    "## Functions"
   ]
  },
  {
   "cell_type": "code",
   "execution_count": null,
   "metadata": {
    "scrolled": false
   },
   "outputs": [],
   "source": [
    "def tokenize(string):\n",
    "    \"\"\"\n",
    "    tokenize string from binary parse\n",
    "    \"\"\"\n",
    "    string = re.sub(r'\\(|\\)', '', str(string))\n",
    "    return string.lower().split()\n",
    "\n",
    "def plot_tokens(df):\n",
    "    \"\"\"\n",
    "    plot token length dist\n",
    "    \"\"\"\n",
    "    total_count = df.sentence2.apply(lambda x: len(x)).sum()\n",
    "    ax = (df.sentence2_binary_parse\n",
    "            .apply(lambda x: len(tokenize(x)))\n",
    "            .value_counts()\n",
    "            .sort_index()\n",
    "            .div(total_count)\n",
    "            .plot(kind='line', legend=True, ylim=[0 , 0.006]))\n",
    "    return ax\n",
    "\n",
    "def plot_characters(df):\n",
    "    \"\"\"\n",
    "    plot character length dist\n",
    "    \"\"\"\n",
    "    total_count = df.sentence2.apply(lambda x: len(x)).sum()\n",
    "    ax = (df.sentence2\n",
    "            .apply(lambda x: len(x))\n",
    "            .value_counts()\n",
    "            .sort_index()\n",
    "            .div(total_count)\n",
    "            .plot(kind='line', legend=True, ylim=[0 , 0.0012]))\n",
    "    return ax\n",
    "\n",
    "def pmi(df):\n",
    "    \"\"\"\n",
    "    PPMI\n",
    "    Args:\n",
    "        df -> dataframe (mnli or snli)\n",
    "    Returns:\n",
    "        pmis -> pmi data\n",
    "    \"\"\"\n",
    "    alpha = 10.0\n",
    "    # get joint (w,c) counts\n",
    "    Px = []\n",
    "    Py = []\n",
    "    Pxy = []\n",
    "    for idx, row in df.iterrows():\n",
    "        for word in tokenize(row.sentence2_binary_parse):\n",
    "            Pxy.append((word, row.gold_label))\n",
    "            Px.append(word)\n",
    "        Py.append(row.gold_label)\n",
    "    Pxy = Counter(Pxy)\n",
    "    Px = Counter(Px)\n",
    "    Py = Counter(Py)\n",
    "    Py = {y: c + len(Px)*alpha for y, c in Py.items()}\n",
    "    Px = {x: c + 3*alpha for x, c in Px.items()}\n",
    "    total_word_count = sum(Px.values())\n",
    "\n",
    "    # get c counts\n",
    "    pmis = []\n",
    "    \n",
    "    seen_pairs = {}\n",
    "    total_Py = 3\n",
    "    for word in Px.keys():\n",
    "        for cls in ['contradiction', 'entailment', 'neutral']:\n",
    "            if seen_pairs.get((word, cls)) is None:\n",
    "                # artificial smoothing\n",
    "                word_count = float(Px[word])\n",
    "                cls_count = float(Py[cls])\n",
    "                word_cls_count = Pxy.get((word, cls), 0.0) + alpha\n",
    "                z = (float(word_cls_count) * total_word_count / (float(word_count) * float(cls_count)))\n",
    "                # ppmi\n",
    "                pmi = max([np.log(z), 0.0])\n",
    "                output = {'word': word,\n",
    "                          'class': cls,\n",
    "                          'pmi': pmi,\n",
    "                          'count': word_count - 3*alpha,\n",
    "                          'wc_count': Pxy.get((word, cls), 0.0),}\n",
    "                seen_pairs[(word, cls)] = 1\n",
    "                pmis.append(output)\n",
    "    pmis = pd.DataFrame(pmis)\n",
    "    return pmis"
   ]
  },
  {
   "cell_type": "markdown",
   "metadata": {},
   "source": [
    "## PPMI and Token Length Distributions\n",
    "\n",
    "Run PPMI"
   ]
  },
  {
   "cell_type": "code",
   "execution_count": null,
   "metadata": {
    "scrolled": false
   },
   "outputs": [],
   "source": [
    "hardest_pmi = pmi(hardest)"
   ]
  },
  {
   "cell_type": "code",
   "execution_count": null,
   "metadata": {
    "scrolled": false
   },
   "outputs": [],
   "source": [
    "snli_pmi = pmi(snli)"
   ]
  },
  {
   "cell_type": "markdown",
   "metadata": {},
   "source": [
    "# Top 100 PPMIs across Hardest"
   ]
  },
  {
   "cell_type": "code",
   "execution_count": 29,
   "metadata": {
    "scrolled": true
   },
   "outputs": [
    {
     "data": {
      "text/html": [
       "<div>\n",
       "<style scoped>\n",
       "    .dataframe tbody tr th:only-of-type {\n",
       "        vertical-align: middle;\n",
       "    }\n",
       "\n",
       "    .dataframe tbody tr th {\n",
       "        vertical-align: top;\n",
       "    }\n",
       "\n",
       "    .dataframe thead th {\n",
       "        text-align: right;\n",
       "    }\n",
       "</style>\n",
       "<table border=\"1\" class=\"dataframe\">\n",
       "  <thead>\n",
       "    <tr style=\"text-align: right;\">\n",
       "      <th></th>\n",
       "      <th>class</th>\n",
       "      <th>count</th>\n",
       "      <th>pmi</th>\n",
       "      <th>wc_count</th>\n",
       "      <th>word</th>\n",
       "    </tr>\n",
       "  </thead>\n",
       "  <tbody>\n",
       "    <tr>\n",
       "      <th>13980</th>\n",
       "      <td>contradiction</td>\n",
       "      <td>49.0</td>\n",
       "      <td>1.419649</td>\n",
       "      <td>37.0</td>\n",
       "      <td>steak</td>\n",
       "    </tr>\n",
       "    <tr>\n",
       "      <th>9717</th>\n",
       "      <td>contradiction</td>\n",
       "      <td>57.0</td>\n",
       "      <td>1.404867</td>\n",
       "      <td>41.0</td>\n",
       "      <td>anything</td>\n",
       "    </tr>\n",
       "    <tr>\n",
       "      <th>14283</th>\n",
       "      <td>contradiction</td>\n",
       "      <td>37.0</td>\n",
       "      <td>1.371843</td>\n",
       "      <td>28.0</td>\n",
       "      <td>forgot</td>\n",
       "    </tr>\n",
       "    <tr>\n",
       "      <th>17279</th>\n",
       "      <td>neutral</td>\n",
       "      <td>42.0</td>\n",
       "      <td>1.360396</td>\n",
       "      <td>33.0</td>\n",
       "      <td>twins</td>\n",
       "    </tr>\n",
       "    <tr>\n",
       "      <th>162</th>\n",
       "      <td>contradiction</td>\n",
       "      <td>125.0</td>\n",
       "      <td>1.349872</td>\n",
       "      <td>76.0</td>\n",
       "      <td>naked</td>\n",
       "    </tr>\n",
       "    <tr>\n",
       "      <th>2747</th>\n",
       "      <td>neutral</td>\n",
       "      <td>97.0</td>\n",
       "      <td>1.349163</td>\n",
       "      <td>65.0</td>\n",
       "      <td>hungry</td>\n",
       "    </tr>\n",
       "    <tr>\n",
       "      <th>4409</th>\n",
       "      <td>neutral</td>\n",
       "      <td>442.0</td>\n",
       "      <td>1.342901</td>\n",
       "      <td>267.0</td>\n",
       "      <td>fun</td>\n",
       "    </tr>\n",
       "    <tr>\n",
       "      <th>2343</th>\n",
       "      <td>contradiction</td>\n",
       "      <td>23.0</td>\n",
       "      <td>1.335953</td>\n",
       "      <td>19.0</td>\n",
       "      <td>rich</td>\n",
       "    </tr>\n",
       "    <tr>\n",
       "      <th>7183</th>\n",
       "      <td>entailment</td>\n",
       "      <td>57.0</td>\n",
       "      <td>1.334648</td>\n",
       "      <td>38.0</td>\n",
       "      <td>stroll</td>\n",
       "    </tr>\n",
       "    <tr>\n",
       "      <th>4572</th>\n",
       "      <td>contradiction</td>\n",
       "      <td>36.0</td>\n",
       "      <td>1.332814</td>\n",
       "      <td>26.0</td>\n",
       "      <td>walmart</td>\n",
       "    </tr>\n",
       "    <tr>\n",
       "      <th>13062</th>\n",
       "      <td>contradiction</td>\n",
       "      <td>41.0</td>\n",
       "      <td>1.313856</td>\n",
       "      <td>28.0</td>\n",
       "      <td>cries</td>\n",
       "    </tr>\n",
       "    <tr>\n",
       "      <th>17838</th>\n",
       "      <td>contradiction</td>\n",
       "      <td>15.0</td>\n",
       "      <td>1.310341</td>\n",
       "      <td>14.0</td>\n",
       "      <td>jail</td>\n",
       "    </tr>\n",
       "    <tr>\n",
       "      <th>1953</th>\n",
       "      <td>contradiction</td>\n",
       "      <td>49.0</td>\n",
       "      <td>1.307171</td>\n",
       "      <td>32.0</td>\n",
       "      <td>cats</td>\n",
       "    </tr>\n",
       "    <tr>\n",
       "      <th>11709</th>\n",
       "      <td>contradiction</td>\n",
       "      <td>21.0</td>\n",
       "      <td>1.302961</td>\n",
       "      <td>17.0</td>\n",
       "      <td>yacht</td>\n",
       "    </tr>\n",
       "    <tr>\n",
       "      <th>17853</th>\n",
       "      <td>contradiction</td>\n",
       "      <td>21.0</td>\n",
       "      <td>1.302961</td>\n",
       "      <td>17.0</td>\n",
       "      <td>plain</td>\n",
       "    </tr>\n",
       "    <tr>\n",
       "      <th>13781</th>\n",
       "      <td>neutral</td>\n",
       "      <td>41.0</td>\n",
       "      <td>1.302062</td>\n",
       "      <td>30.0</td>\n",
       "      <td>seek</td>\n",
       "    </tr>\n",
       "    <tr>\n",
       "      <th>3999</th>\n",
       "      <td>contradiction</td>\n",
       "      <td>44.0</td>\n",
       "      <td>1.298446</td>\n",
       "      <td>29.0</td>\n",
       "      <td>shark</td>\n",
       "    </tr>\n",
       "    <tr>\n",
       "      <th>7095</th>\n",
       "      <td>contradiction</td>\n",
       "      <td>90.0</td>\n",
       "      <td>1.294592</td>\n",
       "      <td>53.0</td>\n",
       "      <td>any</td>\n",
       "    </tr>\n",
       "    <tr>\n",
       "      <th>783</th>\n",
       "      <td>contradiction</td>\n",
       "      <td>140.0</td>\n",
       "      <td>1.291787</td>\n",
       "      <td>79.0</td>\n",
       "      <td>closed</td>\n",
       "    </tr>\n",
       "    <tr>\n",
       "      <th>3326</th>\n",
       "      <td>neutral</td>\n",
       "      <td>153.0</td>\n",
       "      <td>1.291349</td>\n",
       "      <td>92.0</td>\n",
       "      <td>karate</td>\n",
       "    </tr>\n",
       "  </tbody>\n",
       "</table>\n",
       "</div>"
      ],
      "text/plain": [
       "               class  count       pmi  wc_count      word\n",
       "13980  contradiction   49.0  1.419649      37.0     steak\n",
       "9717   contradiction   57.0  1.404867      41.0  anything\n",
       "14283  contradiction   37.0  1.371843      28.0    forgot\n",
       "17279        neutral   42.0  1.360396      33.0     twins\n",
       "162    contradiction  125.0  1.349872      76.0     naked\n",
       "2747         neutral   97.0  1.349163      65.0    hungry\n",
       "4409         neutral  442.0  1.342901     267.0       fun\n",
       "2343   contradiction   23.0  1.335953      19.0      rich\n",
       "7183      entailment   57.0  1.334648      38.0    stroll\n",
       "4572   contradiction   36.0  1.332814      26.0   walmart\n",
       "13062  contradiction   41.0  1.313856      28.0     cries\n",
       "17838  contradiction   15.0  1.310341      14.0      jail\n",
       "1953   contradiction   49.0  1.307171      32.0      cats\n",
       "11709  contradiction   21.0  1.302961      17.0     yacht\n",
       "17853  contradiction   21.0  1.302961      17.0     plain\n",
       "13781        neutral   41.0  1.302062      30.0      seek\n",
       "3999   contradiction   44.0  1.298446      29.0     shark\n",
       "7095   contradiction   90.0  1.294592      53.0       any\n",
       "783    contradiction  140.0  1.291787      79.0    closed\n",
       "3326         neutral  153.0  1.291349      92.0    karate"
      ]
     },
     "execution_count": 29,
     "metadata": {},
     "output_type": "execute_result"
    }
   ],
   "source": [
    "hardest_pmi.sort_values(by='pmi', ascending=False).head(n=20)"
   ]
  },
  {
   "cell_type": "code",
   "execution_count": 30,
   "metadata": {
    "scrolled": true
   },
   "outputs": [
    {
     "data": {
      "text/html": [
       "<div>\n",
       "<style scoped>\n",
       "    .dataframe tbody tr th:only-of-type {\n",
       "        vertical-align: middle;\n",
       "    }\n",
       "\n",
       "    .dataframe tbody tr th {\n",
       "        vertical-align: top;\n",
       "    }\n",
       "\n",
       "    .dataframe thead th {\n",
       "        text-align: right;\n",
       "    }\n",
       "</style>\n",
       "<table border=\"1\" class=\"dataframe\">\n",
       "  <thead>\n",
       "    <tr style=\"text-align: right;\">\n",
       "      <th></th>\n",
       "      <th>class</th>\n",
       "      <th>count</th>\n",
       "      <th>pmi</th>\n",
       "      <th>wc_count</th>\n",
       "      <th>word</th>\n",
       "    </tr>\n",
       "  </thead>\n",
       "  <tbody>\n",
       "    <tr>\n",
       "      <th>651</th>\n",
       "      <td>contradiction</td>\n",
       "      <td>2192.0</td>\n",
       "      <td>2.359585</td>\n",
       "      <td>2182.0</td>\n",
       "      <td>nobody</td>\n",
       "    </tr>\n",
       "    <tr>\n",
       "      <th>4377</th>\n",
       "      <td>contradiction</td>\n",
       "      <td>759.0</td>\n",
       "      <td>2.280274</td>\n",
       "      <td>709.0</td>\n",
       "      <td>cats</td>\n",
       "    </tr>\n",
       "    <tr>\n",
       "      <th>3191</th>\n",
       "      <td>neutral</td>\n",
       "      <td>339.0</td>\n",
       "      <td>2.267198</td>\n",
       "      <td>322.0</td>\n",
       "      <td>championship</td>\n",
       "    </tr>\n",
       "    <tr>\n",
       "      <th>5636</th>\n",
       "      <td>neutral</td>\n",
       "      <td>159.0</td>\n",
       "      <td>2.261011</td>\n",
       "      <td>159.0</td>\n",
       "      <td>joyously</td>\n",
       "    </tr>\n",
       "    <tr>\n",
       "      <th>4146</th>\n",
       "      <td>contradiction</td>\n",
       "      <td>534.0</td>\n",
       "      <td>2.260701</td>\n",
       "      <td>494.0</td>\n",
       "      <td>nothing</td>\n",
       "    </tr>\n",
       "    <tr>\n",
       "      <th>167</th>\n",
       "      <td>neutral</td>\n",
       "      <td>594.0</td>\n",
       "      <td>2.248444</td>\n",
       "      <td>541.0</td>\n",
       "      <td>vacation</td>\n",
       "    </tr>\n",
       "    <tr>\n",
       "      <th>4681</th>\n",
       "      <td>entailment</td>\n",
       "      <td>364.0</td>\n",
       "      <td>2.245740</td>\n",
       "      <td>337.0</td>\n",
       "      <td>least</td>\n",
       "    </tr>\n",
       "    <tr>\n",
       "      <th>81</th>\n",
       "      <td>contradiction</td>\n",
       "      <td>243.0</td>\n",
       "      <td>2.244346</td>\n",
       "      <td>230.0</td>\n",
       "      <td>frowning</td>\n",
       "    </tr>\n",
       "    <tr>\n",
       "      <th>1497</th>\n",
       "      <td>contradiction</td>\n",
       "      <td>949.0</td>\n",
       "      <td>2.242416</td>\n",
       "      <td>849.0</td>\n",
       "      <td>naked</td>\n",
       "    </tr>\n",
       "    <tr>\n",
       "      <th>347</th>\n",
       "      <td>neutral</td>\n",
       "      <td>640.0</td>\n",
       "      <td>2.235483</td>\n",
       "      <td>574.0</td>\n",
       "      <td>winning</td>\n",
       "    </tr>\n",
       "    <tr>\n",
       "      <th>1727</th>\n",
       "      <td>neutral</td>\n",
       "      <td>1939.0</td>\n",
       "      <td>2.234164</td>\n",
       "      <td>1704.0</td>\n",
       "      <td>tall</td>\n",
       "    </tr>\n",
       "    <tr>\n",
       "      <th>10112</th>\n",
       "      <td>neutral</td>\n",
       "      <td>275.0</td>\n",
       "      <td>2.232278</td>\n",
       "      <td>255.0</td>\n",
       "      <td>siblings</td>\n",
       "    </tr>\n",
       "    <tr>\n",
       "      <th>713</th>\n",
       "      <td>neutral</td>\n",
       "      <td>681.0</td>\n",
       "      <td>2.231056</td>\n",
       "      <td>607.0</td>\n",
       "      <td>favorite</td>\n",
       "    </tr>\n",
       "    <tr>\n",
       "      <th>4202</th>\n",
       "      <td>neutral</td>\n",
       "      <td>158.0</td>\n",
       "      <td>2.230168</td>\n",
       "      <td>153.0</td>\n",
       "      <td>impress</td>\n",
       "    </tr>\n",
       "    <tr>\n",
       "      <th>168</th>\n",
       "      <td>contradiction</td>\n",
       "      <td>6390.0</td>\n",
       "      <td>2.221051</td>\n",
       "      <td>5504.0</td>\n",
       "      <td>sleeping</td>\n",
       "    </tr>\n",
       "    <tr>\n",
       "      <th>3543</th>\n",
       "      <td>contradiction</td>\n",
       "      <td>139.0</td>\n",
       "      <td>2.220014</td>\n",
       "      <td>135.0</td>\n",
       "      <td>mars</td>\n",
       "    </tr>\n",
       "    <tr>\n",
       "      <th>1971</th>\n",
       "      <td>contradiction</td>\n",
       "      <td>1581.0</td>\n",
       "      <td>2.219855</td>\n",
       "      <td>1372.0</td>\n",
       "      <td>tv</td>\n",
       "    </tr>\n",
       "    <tr>\n",
       "      <th>2061</th>\n",
       "      <td>contradiction</td>\n",
       "      <td>299.0</td>\n",
       "      <td>2.219028</td>\n",
       "      <td>272.0</td>\n",
       "      <td>anything</td>\n",
       "    </tr>\n",
       "    <tr>\n",
       "      <th>8198</th>\n",
       "      <td>neutral</td>\n",
       "      <td>530.0</td>\n",
       "      <td>2.216624</td>\n",
       "      <td>469.0</td>\n",
       "      <td>date</td>\n",
       "    </tr>\n",
       "    <tr>\n",
       "      <th>6957</th>\n",
       "      <td>contradiction</td>\n",
       "      <td>303.0</td>\n",
       "      <td>2.210483</td>\n",
       "      <td>273.0</td>\n",
       "      <td>quietly</td>\n",
       "    </tr>\n",
       "  </tbody>\n",
       "</table>\n",
       "</div>"
      ],
      "text/plain": [
       "               class   count       pmi  wc_count          word\n",
       "651    contradiction  2192.0  2.359585    2182.0        nobody\n",
       "4377   contradiction   759.0  2.280274     709.0          cats\n",
       "3191         neutral   339.0  2.267198     322.0  championship\n",
       "5636         neutral   159.0  2.261011     159.0      joyously\n",
       "4146   contradiction   534.0  2.260701     494.0       nothing\n",
       "167          neutral   594.0  2.248444     541.0      vacation\n",
       "4681      entailment   364.0  2.245740     337.0         least\n",
       "81     contradiction   243.0  2.244346     230.0      frowning\n",
       "1497   contradiction   949.0  2.242416     849.0         naked\n",
       "347          neutral   640.0  2.235483     574.0       winning\n",
       "1727         neutral  1939.0  2.234164    1704.0          tall\n",
       "10112        neutral   275.0  2.232278     255.0      siblings\n",
       "713          neutral   681.0  2.231056     607.0      favorite\n",
       "4202         neutral   158.0  2.230168     153.0       impress\n",
       "168    contradiction  6390.0  2.221051    5504.0      sleeping\n",
       "3543   contradiction   139.0  2.220014     135.0          mars\n",
       "1971   contradiction  1581.0  2.219855    1372.0            tv\n",
       "2061   contradiction   299.0  2.219028     272.0      anything\n",
       "8198         neutral   530.0  2.216624     469.0          date\n",
       "6957   contradiction   303.0  2.210483     273.0       quietly"
      ]
     },
     "execution_count": 30,
     "metadata": {},
     "output_type": "execute_result"
    }
   ],
   "source": [
    "snli_pmi.sort_values(by='pmi', ascending=False).head(n=20)"
   ]
  },
  {
   "cell_type": "markdown",
   "metadata": {},
   "source": [
    "## Top 100 PPMIs across Hardest"
   ]
  },
  {
   "cell_type": "markdown",
   "metadata": {},
   "source": [
    "how to best present this as a figure? (if we want to use this data as opposed to per-class figures)"
   ]
  },
  {
   "cell_type": "code",
   "execution_count": null,
   "metadata": {
    "scrolled": false
   },
   "outputs": [],
   "source": [
    "sns.set_style(\"whitegrid\", {'axes.grid' : False})\n",
    "mnli_pmi.sort_values(by='pmi', ascending=False).head(n=100)"
   ]
  },
  {
   "cell_type": "markdown",
   "metadata": {},
   "source": [
    "## Hardest class PPMIs"
   ]
  },
  {
   "cell_type": "code",
   "execution_count": null,
   "metadata": {
    "scrolled": false
   },
   "outputs": [],
   "source": [
    "sns.set_style(\"whitegrid\", {'axes.grid' : False})\n",
    "ax = (hardest_pmi.loc[hardest_pmi['class'] == 'contradiction']\n",
    "              .sort_values(by='pmi', ascending=False)\n",
    "              .head(n=20)\n",
    "              .plot(kind='barh', x='word', y='pmi', title='top 20 PPMI(word, contradiction) hardest', legend=False))\n"
   ]
  },
  {
   "cell_type": "code",
   "execution_count": 25,
   "metadata": {
    "scrolled": false
   },
   "outputs": [
    {
     "data": {
      "image/png": "[encoded data removed]",
      "text/plain": [
       "<Figure size 432x288 with 1 Axes>"
      ]
     },
     "metadata": {},
     "output_type": "display_data"
    }
   ],
   "source": [
    "sns.set_style(\"whitegrid\", {'axes.grid' : False})\n",
    "ax = (hardest_pmi.loc[hardest_pmi['class'] == 'entailment']\n",
    "              .sort_values(by='pmi', ascending=False)\n",
    "              .head(n=20)\n",
    "              .plot(kind='barh', x='word', y='pmi', title='top 20 PPMI(word, entailment) hardest', legend=False))\n"
   ]
  },
  {
   "cell_type": "code",
   "execution_count": null,
   "metadata": {
    "scrolled": false
   },
   "outputs": [],
   "source": [
    "sns.set_style(\"whitegrid\", {'axes.grid' : False})\n",
    "ax = (hardest_pmi.loc[hardest_pmi['class'] == 'neutral']\n",
    "              .sort_values(by='pmi', ascending=False)\n",
    "              .head(n=20)\n",
    "              .plot(kind='barh', x='word', y='pmi', title='top 20 PPMI(word, neutral) hardest', legend=False))\n"
   ]
  },
  {
   "cell_type": "markdown",
   "metadata": {},
   "source": [
    "## SNLI class PPMIs"
   ]
  },
  {
   "cell_type": "code",
   "execution_count": null,
   "metadata": {
    "scrolled": false
   },
   "outputs": [],
   "source": [
    "sns.set_style(\"whitegrid\", {'axes.grid' : False})\n",
    "ax = (snli_pmi.loc[snli_pmi['class'] == 'contradiction']\n",
    "              .sort_values(by='pmi', ascending=False)\n",
    "              .head(n=20)\n",
    "              .plot(kind='barh', x='word', y='pmi', title='top 20 PPMI(word, contradiction) SNLI', legend=False))"
   ]
  },
  {
   "cell_type": "code",
   "execution_count": 26,
   "metadata": {
    "scrolled": false
   },
   "outputs": [
    {
     "data": {
      "image/png": "[encoded data removed]",
      "text/plain": [
       "<Figure size 432x288 with 1 Axes>"
      ]
     },
     "metadata": {},
     "output_type": "display_data"
    }
   ],
   "source": [
    "sns.set_style(\"whitegrid\", {'axes.grid' : False})\n",
    "ax = (snli_pmi.loc[snli_pmi['class'] == 'entailment']\n",
    "              .sort_values(by='pmi', ascending=False)\n",
    "              .head(n=20)\n",
    "              .plot(kind='barh', x='word', y='pmi', title='top 20 PPMI(word, entailment) SNLI', legend=False))"
   ]
  },
  {
   "cell_type": "code",
   "execution_count": null,
   "metadata": {
    "scrolled": false
   },
   "outputs": [],
   "source": [
    "sns.set_style(\"whitegrid\", {'axes.grid' : False})\n",
    "ax = (snli_pmi.loc[snli_pmi['class'] == 'neutral']\n",
    "              .sort_values(by='pmi', ascending=False)\n",
    "              .head(n=20)\n",
    "              .plot(kind='barh', x='word', y='pmi', title='top 20 PPMI(word, neutral) SNLI', legend=False))"
   ]
  },
  {
   "cell_type": "markdown",
   "metadata": {},
   "source": [
    "## Token Length Distributions"
   ]
  },
  {
   "cell_type": "code",
   "execution_count": null,
   "metadata": {
    "scrolled": false
   },
   "outputs": [],
   "source": [
    "contradiction_mnli = mnli.loc[mnli.gold_label == 'contradiction']\n",
    "entailment_mnli = mnli.loc[mnli.gold_label == 'entailment']\n",
    "neutral_mnli = mnli.loc[mnli.gold_label == 'neutral']\n",
    "contradiction_snli = snli.loc[snli.gold_label == 'contradiction']\n",
    "entailment_snli = snli.loc[snli.gold_label == 'entailment']\n",
    "neutral_snli = snli.loc[snli.gold_label == 'neutral']"
   ]
  },
  {
   "cell_type": "code",
   "execution_count": null,
   "metadata": {
    "scrolled": false
   },
   "outputs": [],
   "source": [
    "_ = plot_tokens(neutral_mnli)\n",
    "_ = plot_tokens(contradiction_mnli)\n",
    "ax = plot_tokens(entailment_mnli)\n",
    "ax.set_xlabel('number of tokens')\n",
    "ax.set_ylabel('density')\n",
    "ax.legend([\"mnli neutral\",\n",
    "           \"mnli contradiction\",\n",
    "           \"mnli entailment\"])\n",
    "ax.set_ylim([0, 0.0025])\n",
    "ax.set_xlim([0, 30])"
   ]
  },
  {
   "cell_type": "code",
   "execution_count": null,
   "metadata": {
    "scrolled": false
   },
   "outputs": [],
   "source": [
    "_ = plot_tokens(neutral_snli)\n",
    "_ = plot_tokens(contradiction_snli)\n",
    "ax = plot_tokens(entailment_snli)\n",
    "ax.set_xlabel('number of tokens')\n",
    "ax.set_ylabel('density')\n",
    "ax.legend([\"snli neutral\",\n",
    "           \"snli contradiction\",\n",
    "           \"snli entailment\"])\n",
    "ax.set_ylim([0, 0.006])\n",
    "ax.set_xlim([0, 30])"
   ]
  },
  {
   "cell_type": "code",
   "execution_count": null,
   "metadata": {
    "scrolled": false
   },
   "outputs": [],
   "source": [
    "def count_tokens(df):\n",
    "    pdf = df.sentence2_binary_parse.apply(lambda x: len(tokenize(x))).value_counts().sort_index()\n",
    "    total = sum(pdf)\n",
    "    pdf = pdf.div(total)\n",
    "#     pdf = [x / total for x in pdf]\n",
    "    cdf = []\n",
    "    c = 0.0\n",
    "    for x in pdf:\n",
    "        c += x\n",
    "        cdf.append(c)\n",
    "    return pdf, cdf\n",
    "pdf, cdf = count_tokens(entailment_snli)\n",
    "pdf\n",
    "# cdf"
   ]
  },
  {
   "cell_type": "code",
   "execution_count": null,
   "metadata": {
    "scrolled": false
   },
   "outputs": [],
   "source": [
    "_ = plot_characters(neutral_mnli)\n",
    "_ = plot_characters(contradiction_mnli)\n",
    "ax = plot_characters(entailment_mnli)\n",
    "ax.set_xlabel('number of characters')\n",
    "ax.set_ylabel('density')\n",
    "ax.legend([\"mnli neutral\",\n",
    "           \"mnli contradiction\",\n",
    "           \"mnli entailment\"])\n",
    "ax.set_ylim([0, 0.0004])"
   ]
  },
  {
   "cell_type": "code",
   "execution_count": null,
   "metadata": {
    "scrolled": false
   },
   "outputs": [],
   "source": [
    "_ = plot_characters(neutral_snli)\n",
    "_ = plot_characters(contradiction_snli)\n",
    "ax = plot_characters(entailment_snli)\n",
    "ax.set_xlabel('number of characters')\n",
    "ax.set_ylabel('density')\n",
    "ax.legend([\"snli neutral\",\n",
    "           \"snli contradiction\",\n",
    "           \"snli entailment\"])\n",
    "ax.set_ylim([0, 0.0012])"
   ]
  }
 ],
 "metadata": {
  "kernelspec": {
   "display_name": "Python 3",
   "language": "python",
   "name": "python3"
  },
  "language_info": {
   "codemirror_mode": {
    "name": "ipython",
    "version": 3
   },
   "file_extension": ".py",
   "mimetype": "text/x-python",
   "name": "python",
   "nbconvert_exporter": "python",
   "pygments_lexer": "ipython3",
   "version": "3.7.0"
  }
 },
 "nbformat": 4,
 "nbformat_minor": 2
}
