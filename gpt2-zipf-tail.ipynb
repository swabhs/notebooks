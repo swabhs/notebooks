{
 "cells": [
  {
   "cell_type": "markdown",
   "metadata": {},
   "source": [
    "### Sampled 10 time steps in order to demonstrate that LM's output probabilities has a prominent tail when modeled in Zipfian log-log graph. (see the graph at the end)"
   ]
  },
  {
   "cell_type": "code",
   "execution_count": null,
   "metadata": {},
   "outputs": [],
   "source": [
    "import argparse\n",
    "import logging\n",
    "import os\n",
    "import random\n",
    "from functools import partial\n",
    "from operator import add\n",
    "\n",
    "import torch\n",
    "from pytorch_pretrained_bert import GPT2LMHeadModel, GPT2Tokenizer\n",
    "from termcolor import colored\n",
    "from toolz import compose, pipe\n",
    "from tqdm import tqdm\n",
    "\n",
    "from scipy import stats\n",
    "from IPython.display import display_markdown, Markdown\n",
    "import pandas as pd\n",
    "import numpy as np\n",
    "import matplotlib.pyplot as plt\n",
    "\n",
    "\n",
    "seed = 0\n",
    "random.seed(seed)\n",
    "np.random.seed(seed)\n",
    "torch.random.manual_seed(seed)\n",
    "torch.cuda.manual_seed(seed)\n"
   ]
  },
  {
   "cell_type": "markdown",
   "metadata": {},
   "source": [
    "#### Not sure what this data is, but looks like the beginning and end of sentences."
   ]
  },
  {
   "cell_type": "code",
   "execution_count": null,
   "metadata": {},
   "outputs": [],
   "source": [
    "inits, conts = [], []\n",
    "with open(\"/data/gpt2-writingprompts-generations/gold.valid.txt\", \"r\") as reader:\n",
    "    for line in reader:\n",
    "        init, cont = line.strip().split(\"\\t\")\n",
    "        inits.append(init)\n",
    "        conts.append(cont)\n",
    "\n",
    "from random import sample\n",
    "sampled_seqs = sample(list(zip(inits, conts)), 10)"
   ]
  },
  {
   "cell_type": "markdown",
   "metadata": {},
   "source": [
    "#### Loads the GPT2 Model..."
   ]
  },
  {
   "cell_type": "code",
   "execution_count": null,
   "metadata": {},
   "outputs": [],
   "source": [
    "device = torch.device(\"cuda\" if torch.cuda.is_available() else \"cpu\")\n",
    "model_checkpoint = \"/data/gpt2-finetuned-model/\"\n",
    "model = GPT2LMHeadModel.from_pretrained(model_checkpoint)\n",
    "tokenizer = GPT2Tokenizer.from_pretrained(model_checkpoint)\n",
    "model.to(device)\n",
    "model.eval()\n",
    "None"
   ]
  },
  {
   "cell_type": "markdown",
   "metadata": {},
   "source": [
    "#### Not sure I understand what the following is doing... Let's say somehow encodes the sentences"
   ]
  },
  {
   "cell_type": "code",
   "execution_count": null,
   "metadata": {},
   "outputs": [],
   "source": [
    "from toolz import pipe, curry\n",
    "from functools import partial\n",
    "map = curry(map)\n",
    "enc_sents = list(pipe(\n",
    "    sampled_seqs, map(\" \".join), map(tokenizer.encode), map(partial(torch.tensor, dtype=torch.long))))"
   ]
  },
  {
   "cell_type": "markdown",
   "metadata": {},
   "source": [
    "#### Sorts the sentences by decreasing order of probability???"
   ]
  },
  {
   "cell_type": "code",
   "execution_count": null,
   "metadata": {},
   "outputs": [],
   "source": [
    "sorted_probs = []\n",
    "for enc_sent in enc_sents:\n",
    "    with torch.no_grad():\n",
    "        sorted_probs.append(model(enc_sent.unsqueeze(0).to(device))[0].squeeze(0).softmax(1).sort(dim=1, descending=True))"
   ]
  },
  {
   "cell_type": "code",
   "execution_count": null,
   "metadata": {},
   "outputs": [],
   "source": [
    "sampled_positions = [random.randint(0, l[0].shape[0]) for l in sorted_probs]\n",
    "print(sampled_positions)"
   ]
  },
  {
   "cell_type": "code",
   "execution_count": null,
   "metadata": {},
   "outputs": [],
   "source": [
    "position = sampled_positions[0]\n",
    "probs = sorted_probs[0][0][position].cpu().numpy()"
   ]
  },
  {
   "cell_type": "code",
   "execution_count": null,
   "metadata": {
    "scrolled": false
   },
   "outputs": [],
   "source": [
    "fig, ax = plt.subplots(nrows=3, ncols=3, dpi=200, figsize=(15,8))\n",
    "for i in range(9):\n",
    "    position = sampled_positions[i]\n",
    "    probs = sorted_probs[i][0][position].cpu().numpy()\n",
    "    ax[i // 3, i % 3].plot(np.log(np.arange(len(probs))), np.log(probs))\n",
    "plt.show()"
   ]
  },
  {
   "cell_type": "code",
   "execution_count": 19,
   "metadata": {},
   "outputs": [
    {
     "data": {
      "image/png": "[encoded data removed]",
      "text/plain": [
       "<Figure size 432x288 with 1 Axes>"
      ]
     },
     "metadata": {
      "needs_background": "light"
     },
     "output_type": "display_data"
    }
   ],
   "source": [
    "plt.plot([np.log(i) for i in range(1, 5000)], [np.log(80000/i) for i in range(1, 5000)])\n",
    "plt.ylabel('log frequency')\n",
    "plt.xlabel('log frequency rank')\n",
    "plt.show()"
   ]
  },
  {
   "cell_type": "code",
   "execution_count": null,
   "metadata": {},
   "outputs": [],
   "source": []
  }
 ],
 "metadata": {
  "kernelspec": {
   "display_name": "Python 3",
   "language": "python",
   "name": "python3"
  },
  "language_info": {
   "codemirror_mode": {
    "name": "ipython",
    "version": 3
   },
   "file_extension": ".py",
   "mimetype": "text/x-python",
   "name": "python",
   "nbconvert_exporter": "python",
   "pygments_lexer": "ipython3",
   "version": "3.7.0"
  },
  "toc": {
   "base_numbering": 1,
   "nav_menu": {},
   "number_sections": true,
   "sideBar": true,
   "skip_h1_title": false,
   "title_cell": "Table of Contents",
   "title_sidebar": "Contents",
   "toc_cell": false,
   "toc_position": {},
   "toc_section_display": true,
   "toc_window_display": false
  }
 },
 "nbformat": 4,
 "nbformat_minor": 2
}
